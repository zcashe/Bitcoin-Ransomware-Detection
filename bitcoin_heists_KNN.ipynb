{
 "cells": [
  {
   "cell_type": "markdown",
   "metadata": {},
   "source": [
    "# Setup for model"
   ]
  },
  {
   "cell_type": "code",
   "execution_count": 2,
   "metadata": {},
   "outputs": [],
   "source": [
    "import pandas as pd\n",
    "import seaborn as sns\n",
    "import matplotlib.pyplot as plt\n",
    "from IPython.display import display\n",
    "from sklearn.model_selection import train_test_split\n",
    "from sklearn.neighbors import KNeighborsClassifier\n",
    "from sklearn.metrics import accuracy_score, precision_score, recall_score\n",
    "from sklearn.svm import OneClassSVM\n",
    "\n",
    "from sklearn.neighbors import KNeighborsClassifier\n",
    "from sklearn.utils import resample\n",
    "from sklearn.metrics import confusion_matrix, ConfusionMatrixDisplay\n",
    "from imblearn.under_sampling import RandomUnderSampler\n",
    "\n"
   ]
  },
  {
   "cell_type": "markdown",
   "metadata": {},
   "source": [
    "### Retrieve the data training and test sets"
   ]
  },
  {
   "cell_type": "code",
   "execution_count": 3,
   "metadata": {},
   "outputs": [],
   "source": [
    "X_train_undersampled = pd.read_csv('data/BitcoinX_ut_d3.csv')\n",
    "\n",
    "\n",
    "y_train_undersampled = pd.read_csv('data/BitcoinY_ut_d3.csv')\n",
    "y_train_undersampled = y_train_undersampled.label\n",
    "y_test = pd.read_csv('data/BitcoinY_test_d3.csv')\n",
    "\n",
    "X_test = pd.read_csv('data/BitcoinX_test_d3.csv')\n",
    "\n",
    "\n",
    "y_test = y_test.label"
   ]
  },
  {
   "cell_type": "markdown",
   "metadata": {},
   "source": [
    "# KNN Model"
   ]
  },
  {
   "cell_type": "markdown",
   "metadata": {},
   "source": [
    "### Neighbors = 1"
   ]
  },
  {
   "cell_type": "code",
   "execution_count": 4,
   "metadata": {},
   "outputs": [],
   "source": [
    "from sklearn.metrics import classification_report\n",
    "n_neighbors = 1\n",
    "\n",
    "KNN = KNeighborsClassifier(n_neighbors = n_neighbors) \n",
    "\n",
    "KNN.fit(X_train_undersampled, y_train_undersampled)\n",
    "\n",
    "y_hat = KNN.predict(X_test)\n",
    "\n",
    "\n",
    "\n",
    "\n",
    "\n",
    "training_score = KNN.score(X_train_undersampled,y_train_undersampled)\n",
    "\n",
    "testing_score = KNN.score(X_test,y_test)"
   ]
  },
  {
   "cell_type": "code",
   "execution_count": 5,
   "metadata": {},
   "outputs": [
    {
     "name": "stdout",
     "output_type": "stream",
     "text": [
      "Testing and Training Accuracy\n",
      "Score for training: 0.9208600596259825\n",
      "Score for testing: 0.6933109335893304\n",
      "Error Rate for training: 0.0791399403740175\n",
      "Error Rate for testing: 0.3066890664106696\n",
      "\n",
      "               precision    recall  f1-score   support\n",
      "\n",
      "  WhiteLabel       0.99      0.70      0.82    575134\n",
      "  Ransomware       0.03      0.57      0.05      8206\n",
      "\n",
      "    accuracy                           0.69    583340\n",
      "   macro avg       0.51      0.63      0.43    583340\n",
      "weighted avg       0.98      0.69      0.81    583340\n",
      "\n"
     ]
    }
   ],
   "source": [
    "#Printing out Different metrics for analysis\n",
    "print(\"Testing and Training Accuracy\")\n",
    "print(\"Score for training:\", training_score )\n",
    "print(\"Score for testing:\", testing_score)\n",
    "print(\"Error Rate for training:\", 1-training_score)\n",
    "print(\"Error Rate for testing:\", 1-testing_score)\n",
    "\n",
    "\n",
    "\n",
    "print(\"\\n\",classification_report(y_test, y_hat,target_names=['WhiteLabel','Ransomware']))"
   ]
  },
  {
   "cell_type": "markdown",
   "metadata": {},
   "source": [
    "### Confusion Matrix for KNN"
   ]
  },
  {
   "cell_type": "code",
   "execution_count": 6,
   "metadata": {},
   "outputs": [
    {
     "data": {
      "text/plain": [
       "<sklearn.metrics._plot.confusion_matrix.ConfusionMatrixDisplay at 0x21ee2cd1550>"
      ]
     },
     "execution_count": 6,
     "metadata": {},
     "output_type": "execute_result"
    },
    {
     "data": {
      "image/png": "[encoded data removed]",
      "text/plain": [
       "<Figure size 640x480 with 2 Axes>"
      ]
     },
     "metadata": {},
     "output_type": "display_data"
    }
   ],
   "source": [
    "myconfusionmatrix = confusion_matrix(y_test, y_hat, labels=KNN.classes_)\n",
    "\n",
    "mycmdisp = ConfusionMatrixDisplay(confusion_matrix=myconfusionmatrix, display_labels=KNN.classes_)\n",
    "mycmdisp.plot(values_format = 'd')"
   ]
  },
  {
   "cell_type": "markdown",
   "metadata": {},
   "source": [
    "### Neighbors = 2"
   ]
  },
  {
   "cell_type": "code",
   "execution_count": 7,
   "metadata": {},
   "outputs": [],
   "source": [
    "from sklearn.metrics import classification_report\n",
    "n_neighbors = 2\n",
    "\n",
    "KNN = KNeighborsClassifier(n_neighbors = n_neighbors) \n",
    "\n",
    "KNN.fit(X_train_undersampled, y_train_undersampled)\n",
    "\n",
    "y_hat = KNN.predict(X_test)\n",
    "\n",
    "\n",
    "\n",
    "\n",
    "\n",
    "training_score = KNN.score(X_train_undersampled,y_train_undersampled)\n",
    "\n",
    "testing_score = KNN.score(X_test,y_test)"
   ]
  },
  {
   "cell_type": "code",
   "execution_count": 8,
   "metadata": {},
   "outputs": [
    {
     "name": "stdout",
     "output_type": "stream",
     "text": [
      "Testing and Training Accuracy\n",
      "Score for training: 0.7810401421387057\n",
      "Score for testing: 0.8348613158706758\n",
      "Error Rate for training: 0.21895985786129435\n",
      "Error Rate for testing: 0.1651386841293242\n",
      "\n",
      "               precision    recall  f1-score   support\n",
      "\n",
      "  WhiteLabel       0.99      0.84      0.91    575134\n",
      "  Ransomware       0.04      0.42      0.07      8206\n",
      "\n",
      "    accuracy                           0.83    583340\n",
      "   macro avg       0.51      0.63      0.49    583340\n",
      "weighted avg       0.98      0.83      0.90    583340\n",
      "\n"
     ]
    }
   ],
   "source": [
    "#Printing out Different metrics for analysis\n",
    "print(\"Testing and Training Accuracy\")\n",
    "print(\"Score for training:\", training_score )\n",
    "print(\"Score for testing:\", testing_score)\n",
    "print(\"Error Rate for training:\", 1-training_score)\n",
    "print(\"Error Rate for testing:\", 1-testing_score)\n",
    "\n",
    "\n",
    "\n",
    "print(\"\\n\",classification_report(y_test, y_hat,target_names=['WhiteLabel','Ransomware']))"
   ]
  },
  {
   "cell_type": "markdown",
   "metadata": {},
   "source": [
    "### Confusion Matrix for KNN 2"
   ]
  },
  {
   "cell_type": "code",
   "execution_count": 9,
   "metadata": {},
   "outputs": [
    {
     "data": {
      "text/plain": [
       "<sklearn.metrics._plot.confusion_matrix.ConfusionMatrixDisplay at 0x21ee34bec90>"
      ]
     },
     "execution_count": 9,
     "metadata": {},
     "output_type": "execute_result"
    },
    {
     "data": {
      "image/png": "[encoded data removed]",
      "text/plain": [
       "<Figure size 640x480 with 2 Axes>"
      ]
     },
     "metadata": {},
     "output_type": "display_data"
    }
   ],
   "source": [
    "myconfusionmatrix = confusion_matrix(y_test, y_hat, labels=KNN.classes_)\n",
    "\n",
    "mycmdisp = ConfusionMatrixDisplay(confusion_matrix=myconfusionmatrix, display_labels=KNN.classes_)\n",
    "mycmdisp.plot(values_format = 'd')"
   ]
  }
 ],
 "metadata": {
  "kernelspec": {
   "display_name": "Python 3",
   "language": "python",
   "name": "python3"
  },
  "language_info": {
   "codemirror_mode": {
    "name": "ipython",
    "version": 3
   },
   "file_extension": ".py",
   "mimetype": "text/x-python",
   "name": "python",
   "nbconvert_exporter": "python",
   "pygments_lexer": "ipython3",
   "version": "3.12.4"
  }
 },
 "nbformat": 4,
 "nbformat_minor": 2
}
